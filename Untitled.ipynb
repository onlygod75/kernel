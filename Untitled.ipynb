{
 "cells": [
  {
   "cell_type": "code",
   "execution_count": 1,
   "metadata": {},
   "outputs": [
    {
     "data": {
      "text/plain": [
       "<matplotlib.figure.Figure at 0x1c7472bc048>"
      ]
     },
     "metadata": {},
     "output_type": "display_data"
    },
    {
     "name": "stdout",
     "output_type": "stream",
     "text": [
      "Cluster member numbers- 0 :  200\n",
      "Cluster member numbers- 1 :  200\n",
      "iteration- 1 :  30.0  seconds\n"
     ]
    },
    {
     "data": {
      "text/plain": [
       "<matplotlib.figure.Figure at 0x1c747fb7898>"
      ]
     },
     "metadata": {},
     "output_type": "display_data"
    },
    {
     "name": "stdout",
     "output_type": "stream",
     "text": [
      "Cluster member numbers- 0 :  200\n",
      "Cluster member numbers- 1 :  200\n"
     ]
    },
    {
     "data": {
      "text/plain": [
       "<matplotlib.figure.Figure at 0x1c74729eeb8>"
      ]
     },
     "metadata": {},
     "output_type": "display_data"
    },
    {
     "name": "stdout",
     "output_type": "stream",
     "text": [
      "converged!\n"
     ]
    }
   ],
   "source": [
    "import numpy as np\n",
    "from matplotlib import pyplot as plt\n",
    "from matplotlib.pyplot import cm\n",
    "import time\n",
    "\n",
    "filePath1 = \"test1_data.txt\"\n",
    "filePath2 = \"test2_data.txt\"\n",
    "dataTesting1 = np.loadtxt(filePath1, delimiter=\" \")\n",
    "dataTesting2 = np.loadtxt(filePath2, delimiter=\" \")\n",
    "\n",
    "#params\n",
    "k = 2 #number of cluster\n",
    "var = 5 #var in RFB kernel\n",
    "iterationCounter = 0\n",
    "input = dataTesting2\n",
    "initMethod = \"byOriginDistance\" #options = random, byCenterDistance, byOriginDistance\n",
    "\n",
    "def initCluster(dataInput, nCluster, method):\n",
    "    listClusterMember = [[] for i in range(nCluster)]\n",
    "    if (method == \"random\"):\n",
    "        shuffledDataIn = dataInput\n",
    "        np.random.shuffle(shuffledDataIn)\n",
    "        for i in range(0, dataInput.shape[0]):\n",
    "            listClusterMember[i%nCluster].append(dataInput[i,:])\n",
    "    if (method == \"byCenterDistance\"):\n",
    "        center = np.matrix(np.mean(dataInput, axis=0))\n",
    "        repeatedCent = np.repeat(center, dataInput.shape[0], axis=0)\n",
    "        deltaMatrix = abs(np.subtract(dataInput, repeatedCent))\n",
    "        euclideanMatrix = np.sqrt(np.square(deltaMatrix).sum(axis=1))\n",
    "        dataNew = np.array(np.concatenate((euclideanMatrix, dataInput), axis=1))\n",
    "        dataNew = dataNew[np.argsort(dataNew[:, 0])]\n",
    "        dataNew = np.delete(dataNew, 0, 1)\n",
    "        divider = dataInput.shape[0]/nCluster\n",
    "        for i in range(0, dataInput.shape[0]):\n",
    "            listClusterMember[np.int(np.floor(i/divider))].append(dataNew[i,:])\n",
    "    if (method == \"byOriginDistance\"):\n",
    "        origin = np.matrix([[0,0]])\n",
    "        repeatedCent = np.repeat(origin, dataInput.shape[0], axis=0)\n",
    "        deltaMatrix = abs(np.subtract(dataInput, repeatedCent))\n",
    "        euclideanMatrix = np.sqrt(np.square(deltaMatrix).sum(axis=1))\n",
    "        dataNew = np.array(np.concatenate((euclideanMatrix, dataInput), axis=1))\n",
    "        dataNew = dataNew[np.argsort(dataNew[:, 0])]\n",
    "        dataNew = np.delete(dataNew, 0, 1)\n",
    "        divider = dataInput.shape[0]/nCluster\n",
    "        for i in range(0, dataInput.shape[0]):\n",
    "            listClusterMember[np.int(np.floor(i/divider))].append(dataNew[i,:])\n",
    "\n",
    "    return listClusterMember\n",
    "\n",
    "def RbfKernel(data1, data2, sigma):\n",
    "    delta =abs(np.subtract(data1, data2))\n",
    "    squaredEuclidean = (np.square(delta).sum(axis=1))\n",
    "    result = np.exp(-(squaredEuclidean)/(2*sigma**2))\n",
    "    return result\n",
    "\n",
    "def thirdTerm(memberCluster):\n",
    "    result = 0\n",
    "    for i in range(0, memberCluster.shape[0]):\n",
    "        for j in range(0, memberCluster.shape[0]):\n",
    "            result = result + RbfKernel(memberCluster[i, :], memberCluster[j, :], var)\n",
    "    result = result / (memberCluster.shape[0] ** 2)\n",
    "    return result\n",
    "\n",
    "def secondTerm(dataI, memberCluster):\n",
    "    result = 0\n",
    "    for i in range(0, memberCluster.shape[0]):\n",
    "        result = result + RbfKernel(dataI, memberCluster[i,:], var)\n",
    "    result = 2 * result / memberCluster.shape[0]\n",
    "    return result\n",
    "\n",
    "def plotResult(listClusterMembers, centroid, iteration, converged):\n",
    "    n = listClusterMembers.__len__()\n",
    "    color = iter(cm.rainbow(np.linspace(0, 1, n)))\n",
    "    plt.figure(\"result\")\n",
    "    plt.clf()\n",
    "    plt.title(\"iteration-\" + iteration)\n",
    "    for i in range(n):\n",
    "        col = next(color)\n",
    "        memberCluster = np.asmatrix(listClusterMembers[i])\n",
    "        plt.scatter(np.ravel(memberCluster[:, 0]), np.ravel(memberCluster[:, 1]), marker=\".\", s=100, c=col)\n",
    "    color = iter(cm.rainbow(np.linspace(0, 1, n)))\n",
    "    for i in range(n):\n",
    "        col = next(color)\n",
    "        plt.scatter(np.ravel(centroid[i, 0]), np.ravel(centroid[i, 1]), marker=\"*\", s=400, c=col, edgecolors=\"black\")\n",
    "    if (converged == 0):\n",
    "        plt.ion()\n",
    "        plt.show()\n",
    "        plt.pause(0.1)\n",
    "    if (converged == 1):\n",
    "        plt.show(block=True)\n",
    "\n",
    "def kMeansKernel(data, initMethod):\n",
    "    global iterationCounter\n",
    "    memberInit = initCluster(data, k, initMethod)\n",
    "    nCluster = memberInit.__len__()\n",
    "    #looping until converged\n",
    "    while(True):\n",
    "        # calculate centroid, only for visualization purpose\n",
    "        centroid = np.ndarray(shape=(0, data.shape[1]))\n",
    "        for i in range(0, nCluster):\n",
    "            memberCluster = np.asmatrix(memberInit[i])\n",
    "            centroidCluster = memberCluster.mean(axis=0)\n",
    "            centroid = np.concatenate((centroid, centroidCluster), axis=0)\n",
    "        #plot result in every iteration\n",
    "        plotResult(memberInit, centroid, str(iterationCounter), 0)\n",
    "        oldTime = np.around(time.time(), decimals=0)\n",
    "        kernelResultClusterAllCluster = np.ndarray(shape=(data.shape[0], 0))\n",
    "        #assign data to cluster whose centroid is the closest one\n",
    "        for i in range(0, nCluster):#repeat for all cluster\n",
    "            term3 = thirdTerm(np.asmatrix(memberInit[i]))\n",
    "            matrixTerm3 = np.repeat(term3, data.shape[0], axis=0); matrixTerm3 = np.asmatrix(matrixTerm3)\n",
    "            matrixTerm2 = np.ndarray(shape=(0,1))\n",
    "            for j in range(0, data.shape[0]): #repeat for all data\n",
    "                term2 = secondTerm(data[j,:], np.asmatrix(memberInit[i]))\n",
    "                matrixTerm2 = np.concatenate((matrixTerm2, term2), axis=0)\n",
    "            matrixTerm2 = np.asmatrix(matrixTerm2)\n",
    "            kernelResultClusterI = np.add(-1*matrixTerm2, matrixTerm3)\n",
    "            kernelResultClusterAllCluster =\\\n",
    "                np.concatenate((kernelResultClusterAllCluster, kernelResultClusterI), axis=1)\n",
    "        clusterMatrix = np.ravel(np.argmin(np.matrix(kernelResultClusterAllCluster), axis=1))\n",
    "        listClusterMember = [[] for l in range(k)]\n",
    "        for i in range(0, data.shape[0]):#assign data to cluster regarding cluster matrix\n",
    "            listClusterMember[np.asscalar(clusterMatrix[i])].append(data[i,:])\n",
    "        for i in range(0, nCluster):\n",
    "            print(\"Cluster member numbers-\", i, \": \", listClusterMember[0].__len__())\n",
    "        #break when converged\n",
    "        boolAcc = True\n",
    "        for m in range(0, nCluster):\n",
    "            prev = np.asmatrix(memberInit[m])\n",
    "            current = np.asmatrix(listClusterMember[m])\n",
    "            if (prev.shape[0] != current.shape[0]):\n",
    "                boolAcc = False\n",
    "                break\n",
    "            if (prev.shape[0] == current.shape[0]):\n",
    "                boolPerCluster = (prev == current).all()\n",
    "            boolAcc = boolAcc and boolPerCluster\n",
    "            if(boolAcc==False):\n",
    "                break\n",
    "        if(boolAcc==True):\n",
    "            break\n",
    "        iterationCounter += 1\n",
    "        #update new cluster member\n",
    "        memberInit = listClusterMember\n",
    "        newTime = np.around(time.time(), decimals=0)\n",
    "        print(\"iteration-\", iterationCounter, \": \", newTime - oldTime, \" seconds\")\n",
    "    return listClusterMember, centroid\n",
    "\n",
    "clusterResult, centroid = kMeansKernel(input, initMethod)\n",
    "plotResult(clusterResult, centroid, str(iterationCounter) + ' (converged)', 1)\n",
    "print(\"converged!\")\n"
   ]
  },
  {
   "cell_type": "code",
   "execution_count": null,
   "metadata": {},
   "outputs": [],
   "source": []
  }
 ],
 "metadata": {
  "kernelspec": {
   "display_name": "Python 3",
   "language": "python",
   "name": "python3"
  },
  "language_info": {
   "codemirror_mode": {
    "name": "ipython",
    "version": 3
   },
   "file_extension": ".py",
   "mimetype": "text/x-python",
   "name": "python",
   "nbconvert_exporter": "python",
   "pygments_lexer": "ipython3",
   "version": "3.6.4"
  }
 },
 "nbformat": 4,
 "nbformat_minor": 2
}
