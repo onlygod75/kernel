{
 "cells": [
  {
   "cell_type": "code",
   "execution_count": 1,
   "metadata": {},
   "outputs": [
    {
     "name": "stdout",
     "output_type": "stream",
     "text": [
      "data testing:  (400, 2)\n",
      "iter:  1\n",
      "centroid:  [[-0.38403529 -1.56161324]\n",
      " [ 4.30033939  0.93692008]]\n"
     ]
    },
    {
     "data": {
      "text/plain": [
       "<matplotlib.figure.Figure at 0x1d64408feb8>"
      ]
     },
     "metadata": {},
     "output_type": "display_data"
    },
    {
     "data": {
      "text/plain": [
       "<matplotlib.figure.Figure at 0x1d6452d2400>"
      ]
     },
     "metadata": {},
     "output_type": "display_data"
    },
    {
     "name": "stdout",
     "output_type": "stream",
     "text": [
      "iter:  2\n",
      "centroid:  [[-0.1660963  -1.17241173]\n",
      " [ 4.66373277  0.94495042]]\n"
     ]
    },
    {
     "data": {
      "text/plain": [
       "<matplotlib.figure.Figure at 0x1d645313630>"
      ]
     },
     "metadata": {},
     "output_type": "display_data"
    },
    {
     "name": "stdout",
     "output_type": "stream",
     "text": [
      "iter:  3\n",
      "centroid:  [[-0.09351272 -0.96424393]\n",
      " [ 4.84246035  0.88890617]]\n"
     ]
    },
    {
     "data": {
      "text/plain": [
       "<matplotlib.figure.Figure at 0x1d645296d68>"
      ]
     },
     "metadata": {},
     "output_type": "display_data"
    },
    {
     "name": "stdout",
     "output_type": "stream",
     "text": [
      "iter:  4\n",
      "centroid:  [[-0.02106978 -0.80673022]\n",
      " [ 4.98575917  0.83391009]]\n"
     ]
    },
    {
     "data": {
      "text/plain": [
       "<matplotlib.figure.Figure at 0x1d6452a6a20>"
      ]
     },
     "metadata": {},
     "output_type": "display_data"
    },
    {
     "name": "stdout",
     "output_type": "stream",
     "text": [
      "iter:  5\n",
      "centroid:  [[ 0.08540256 -0.5960841 ]\n",
      " [ 5.20198683  0.73758   ]]\n"
     ]
    },
    {
     "data": {
      "text/plain": [
       "<matplotlib.figure.Figure at 0x1d64537d198>"
      ]
     },
     "metadata": {},
     "output_type": "display_data"
    },
    {
     "name": "stdout",
     "output_type": "stream",
     "text": [
      "iter:  6\n",
      "centroid:  [[ 0.16761262 -0.40052621]\n",
      " [ 5.40480722  0.60554588]]\n"
     ]
    },
    {
     "data": {
      "text/plain": [
       "<matplotlib.figure.Figure at 0x1d6453ba940>"
      ]
     },
     "metadata": {},
     "output_type": "display_data"
    },
    {
     "name": "stdout",
     "output_type": "stream",
     "text": [
      "iter:  7\n",
      "centroid:  [[ 0.26145826 -0.17047064]\n",
      " [ 5.63770824  0.39631923]]\n"
     ]
    },
    {
     "data": {
      "text/plain": [
       "<matplotlib.figure.Figure at 0x1d6453af748>"
      ]
     },
     "metadata": {},
     "output_type": "display_data"
    },
    {
     "name": "stdout",
     "output_type": "stream",
     "text": [
      "iter:  8\n",
      "centroid:  [[ 0.29689552 -0.01465247]\n",
      " [ 5.74493277  0.21601695]]\n"
     ]
    },
    {
     "data": {
      "text/plain": [
       "<matplotlib.figure.Figure at 0x1d645430c50>"
      ]
     },
     "metadata": {},
     "output_type": "display_data"
    },
    {
     "name": "stdout",
     "output_type": "stream",
     "text": [
      "iter:  9\n",
      "centroid:  [[0.32796991 0.047     ]\n",
      " [5.79850345 0.13991667]]\n"
     ]
    },
    {
     "data": {
      "text/plain": [
       "<matplotlib.figure.Figure at 0x1d6453f50f0>"
      ]
     },
     "metadata": {},
     "output_type": "display_data"
    },
    {
     "name": "stdout",
     "output_type": "stream",
     "text": [
      "iter:  10\n",
      "centroid:  [[0.35162939 0.0588807 ]\n",
      " [5.83075174 0.12524826]]\n"
     ]
    },
    {
     "data": {
      "text/plain": [
       "<matplotlib.figure.Figure at 0x1d64533b4e0>"
      ]
     },
     "metadata": {},
     "output_type": "display_data"
    },
    {
     "name": "stdout",
     "output_type": "stream",
     "text": [
      "iter:  11\n",
      "centroid:  [[0.36351659 0.06179083]\n",
      " [5.84687427 0.12173918]]\n"
     ]
    },
    {
     "data": {
      "text/plain": [
       "<matplotlib.figure.Figure at 0x1d6452d50f0>"
      ]
     },
     "metadata": {},
     "output_type": "display_data"
    },
    {
     "name": "stdout",
     "output_type": "stream",
     "text": [
      "iter:  12\n",
      "centroid:  [[0.36351659 0.06179083]\n",
      " [5.84687427 0.12173918]]\n"
     ]
    },
    {
     "data": {
      "text/plain": [
       "<matplotlib.figure.Figure at 0x1d6416475c0>"
      ]
     },
     "metadata": {},
     "output_type": "display_data"
    }
   ],
   "source": [
    "import numpy as np\n",
    "from matplotlib import pyplot as plt\n",
    "from matplotlib.pyplot import cm\n",
    "import time\n",
    "\n",
    "filePath1 = \"test1_data.txt\"\n",
    "filePath2 = \"test2_data.txt\"\n",
    "dataTesting1 = np.loadtxt(filePath1, delimiter=\" \")\n",
    "dataTesting2 = np.loadtxt(filePath2, delimiter=\" \")\n",
    "\n",
    "print(\"data testing: \", dataTesting1.shape)\n",
    "\n",
    "#define params\n",
    "k = 2 #numb of clusters\n",
    "iterationCounter = 0 #clustering iteration counter\n",
    "input = dataTesting1\n",
    "initCentroidMethod = \"badInit\" #options: random, kmeans++, badInit, zeroInit\n",
    "\n",
    "def initCentroid(dataIn, method, k):\n",
    "    if (method==\"random\"):\n",
    "        result = dataIn[np.random.choice(dataIn.shape[0], k, replace=False)]\n",
    "    if (method==\"kmeans++\"):\n",
    "        euclideanMatrixAllCentroid = np.ndarray(shape=(dataIn.shape[0], 0))\n",
    "        allCentroid = np.ndarray(shape=(0,dataIn.shape[1]))\n",
    "        first = dataIn[np.random.choice(dataIn.shape[0], 1, replace=False)]\n",
    "        allCentroid = np.concatenate((allCentroid, first), axis=0)\n",
    "        repeatedCent = np.repeat(first, dataIn.shape[0], axis=0)\n",
    "        deltaMatrix = abs(np.subtract(dataIn, repeatedCent))\n",
    "        euclideanMatrix = np.sqrt(np.square(deltaMatrix).sum(axis=1))\n",
    "        indexNextCent = (np.argmax(np.matrix(euclideanMatrix)))\n",
    "        if(k>1):\n",
    "            for a in range(1,k):\n",
    "                nextCent = np.matrix(dataIn[np.asscalar(indexNextCent),:])\n",
    "                allCentroid = np.concatenate((allCentroid, nextCent), axis=0)\n",
    "                for i in range(0,allCentroid.shape[0]):\n",
    "                    repeatedCent = np.repeat(allCentroid[i,:], dataIn.shape[0], axis=0)\n",
    "                    deltaMatrix = abs(np.subtract(dataIn, repeatedCent))\n",
    "                    euclideanMatrix = np.sqrt(np.square(deltaMatrix).sum(axis=1))\n",
    "                    euclideanMatrixAllCentroid = \\\n",
    "                        np.concatenate((euclideanMatrixAllCentroid, euclideanMatrix), axis=1)\n",
    "                euclideanFinal = np.min(np.matrix(euclideanMatrixAllCentroid), axis=1)\n",
    "                indexNextCent = np.argmax(np.matrix(euclideanFinal))\n",
    "        result = allCentroid\n",
    "    if (method==\"badInit\"):\n",
    "        allCentroid = np.ndarray(shape=(0,dataIn.shape[1]))\n",
    "        firstIndex = np.random.randint(0,dataIn.shape[0])\n",
    "        first = np.matrix(dataIn[firstIndex,:])\n",
    "        dataIn = np.delete(dataIn, firstIndex, 0)\n",
    "        allCentroid = np.concatenate((allCentroid, first), axis=0)\n",
    "        repeatedCent = np.repeat(first, dataIn.shape[0], axis=0)\n",
    "        deltaMatrix = abs(np.subtract(dataIn, repeatedCent))\n",
    "        euclideanMatrix = np.sqrt(np.square(deltaMatrix).sum(axis=1))\n",
    "        indexNextCent = (np.argmin(np.matrix(euclideanMatrix)))\n",
    "        if(k>1):\n",
    "            for a in range(1,k):\n",
    "                nextCent = np.matrix(dataIn[np.asscalar(indexNextCent),:])\n",
    "                dataIn = np.delete(dataIn, np.asscalar(indexNextCent), 0)\n",
    "                euclideanMatrixAllCentroid = np.ndarray(shape=(dataIn.shape[0], 0))\n",
    "                allCentroid = np.concatenate((allCentroid, nextCent), axis=0)\n",
    "                for i in range(0,allCentroid.shape[0]):\n",
    "                    repeatedCent = np.repeat(allCentroid[i,:], dataIn.shape[0], axis=0)\n",
    "                    deltaMatrix = abs(np.subtract(dataIn, repeatedCent))\n",
    "                    euclideanMatrix = np.sqrt(np.square(deltaMatrix).sum(axis=1))\n",
    "                    euclideanMatrixAllCentroid = \\\n",
    "                        np.concatenate((euclideanMatrixAllCentroid, euclideanMatrix), axis=1)\n",
    "                euclideanFinal = np.min(np.matrix(euclideanMatrixAllCentroid), axis=1)\n",
    "                indexNextCent = np.argmin(np.matrix(euclideanFinal))\n",
    "        result = allCentroid\n",
    "    if (method==\"zeroInit\"):\n",
    "        result = np.matrix(np.full((k,dataIn.shape[1]),0))\n",
    "\n",
    "    color = iter(cm.rainbow(np.linspace(0, 1, k)))\n",
    "    plt.figure(\"centroid initialization\")\n",
    "    plt.title(\"centroid initialization\")\n",
    "    plt.scatter(dataIn[:, 0], dataIn[:, 1], marker=\".\", s=100)\n",
    "    for i in range(0,k):\n",
    "        col = next(color)\n",
    "        plt.scatter((result[i, 0]), (result[i, 1]), marker=\"*\", s=400, c=col)\n",
    "        plt.text((result[i, 0]), (result[i, 1]), str(i+1), fontsize=20)\n",
    "    return result\n",
    "\n",
    "def plotClusterResult(listClusterMembers, centroid, iteration, converged):\n",
    "    n = listClusterMembers.__len__()\n",
    "    color = iter(cm.rainbow(np.linspace(0, 1, n)))\n",
    "    plt.figure(\"result\")\n",
    "    plt.clf()\n",
    "    plt.title(\"iteration-\" + iteration)\n",
    "    for i in range(n):\n",
    "        col = next(color)\n",
    "        memberCluster = np.asmatrix(listClusterMembers[i])\n",
    "        plt.scatter(np.ravel(memberCluster[:, 0]), np.ravel(memberCluster[:, 1]), marker=\".\", s=100, c=col)\n",
    "        plt.scatter((centroid[i, 0]), (centroid[i, 1]), marker=\"*\", s=400, c=col, edgecolors=\"black\")\n",
    "    if(converged == 0):\n",
    "        plt.ion()\n",
    "        plt.show()\n",
    "        plt.pause(0.1)\n",
    "    if (converged == 1):\n",
    "        plt.show(block=True)\n",
    "\n",
    "def kMeans(data, centroidInit):\n",
    "    nCluster = centroidInit.shape[0]\n",
    "    #looping until converged\n",
    "    global iterationCounter\n",
    "    centroidInit = np.matrix(centroidInit)\n",
    "    while(True):\n",
    "        iterationCounter +=1\n",
    "        euclideanMatrixAllCluster = np.ndarray(shape=(data.shape[0], 0))\n",
    "        #assign data to cluster whose centroid is the closest one\n",
    "        for i in range(0, nCluster):\n",
    "            centroidRepeated = np.repeat(centroidInit[i,:], data.shape[0], axis=0)\n",
    "            deltaMatrix = abs(np.subtract(data,centroidRepeated))\n",
    "            euclideanMatrix = np.sqrt(np.square(deltaMatrix).sum(axis=1))\n",
    "            euclideanMatrixAllCluster = \\\n",
    "                np.concatenate((euclideanMatrixAllCluster, euclideanMatrix), axis=1)\n",
    "        clusterMatrix = np.ravel(np.argmin(np.matrix(euclideanMatrixAllCluster), axis=1))\n",
    "        listClusterMember = [[] for i in range(k)]\n",
    "        for i in range(0, data.shape[0]):#assign data to cluster regarding cluster matrix\n",
    "            listClusterMember[np.asscalar(clusterMatrix[i])].append(data[i,:])\n",
    "        #calculate new centroid\n",
    "        newCentroid = np.ndarray(shape=(0, centroidInit.shape[1]))\n",
    "        for i in range(0,nCluster):\n",
    "            memberCluster = np.asmatrix(listClusterMember[i])\n",
    "            centroidCluster = memberCluster.mean(axis=0)\n",
    "            newCentroid = np.concatenate((newCentroid, centroidCluster), axis=0)\n",
    "        #break when converged\n",
    "        print(\"iter: \", iterationCounter)\n",
    "        print(\"centroid: \", newCentroid)\n",
    "        if((centroidInit == newCentroid).all()):\n",
    "            break\n",
    "        # update new centroid\n",
    "        centroidInit = newCentroid\n",
    "        plotClusterResult(listClusterMember, centroidInit, str(iterationCounter), 0)\n",
    "        time.sleep(1)\n",
    "    return listClusterMember, centroidInit\n",
    "\n",
    "centroidInit = initCentroid(input, initCentroidMethod, k)\n",
    "clusterResults, centroid = kMeans(input, centroidInit)\n",
    "plotClusterResult(clusterResults, centroid, str(iterationCounter) + \" (converged)\", 1)\n"
   ]
  },
  {
   "cell_type": "code",
   "execution_count": null,
   "metadata": {},
   "outputs": [],
   "source": []
  }
 ],
 "metadata": {
  "kernelspec": {
   "display_name": "Python 3",
   "language": "python",
   "name": "python3"
  },
  "language_info": {
   "codemirror_mode": {
    "name": "ipython",
    "version": 3
   },
   "file_extension": ".py",
   "mimetype": "text/x-python",
   "name": "python",
   "nbconvert_exporter": "python",
   "pygments_lexer": "ipython3",
   "version": "3.6.4"
  }
 },
 "nbformat": 4,
 "nbformat_minor": 2
}
